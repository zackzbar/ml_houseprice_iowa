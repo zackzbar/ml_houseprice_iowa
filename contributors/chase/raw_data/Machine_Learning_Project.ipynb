{
 "cells": [
  {
   "cell_type": "code",
   "execution_count": 146,
   "metadata": {},
   "outputs": [],
   "source": [
    "import pandas as pd\n",
    "import matplotlib.pyplot as plt\n",
    "import seaborn as sns\n",
    "import numpy as np\n",
    "import statistics\n",
    "import warnings\n",
    "warnings.filterwarnings('ignore')\n",
    "import sklearn.model_selection as ms\n",
    "from scipy.stats import norm\n",
    "from scipy.stats import boxcox\n",
    "from sklearn.preprocessing import StandardScaler\n",
    "from scipy import stats\n",
    "from scipy.stats import norm, skew\n",
    "from scipy.special import boxcox1p\n",
    "from scipy.stats import boxcox_normmax\n",
    "from sklearn.linear_model import ElasticNetCV, LassoCV, Lasso, ElasticNet \n",
    "from sklearn.ensemble import GradientBoostingRegressor\n",
    "from sklearn.ensemble import RandomForestRegressor\n",
    "from sklearn.model_selection import GridSearchCV\n",
    "from sklearn.svm import SVR\n",
    "from sklearn.pipeline import make_pipeline\n",
    "from sklearn.preprocessing import RobustScaler\n",
    "from sklearn.model_selection import KFold, cross_val_score, StratifiedKFold \n",
    "from sklearn.metrics import mean_squared_error, make_scorer, mean_absolute_error\n",
    "from sklearn.model_selection import train_test_split\n",
    "from sklearn import linear_model\n",
    "%matplotlib inline"
   ]
  },
  {
   "cell_type": "code",
   "execution_count": 151,
   "metadata": {},
   "outputs": [],
   "source": [
    "#Import the datasets\n",
    "\n",
    "#Unchanged dataset\n",
    "df1 = pd.read_csv('train.csv')\n",
    "\n",
    "#Dataset with dummified values\n",
    "df2 = pd.read_csv('train_dummy_ordinal.csv')\n",
    "\n",
    "#Remove ID column\n",
    "df1.drop(\"Id\", axis = 1, inplace = True)\n",
    "df2.drop(\"Id\", axis = 1, inplace = True)"
   ]
  },
  {
   "cell_type": "code",
   "execution_count": 152,
   "metadata": {},
   "outputs": [
    {
     "data": {
      "text/html": [
       "<div>\n",
       "<style scoped>\n",
       "    .dataframe tbody tr th:only-of-type {\n",
       "        vertical-align: middle;\n",
       "    }\n",
       "\n",
       "    .dataframe tbody tr th {\n",
       "        vertical-align: top;\n",
       "    }\n",
       "\n",
       "    .dataframe thead th {\n",
       "        text-align: right;\n",
       "    }\n",
       "</style>\n",
       "<table border=\"1\" class=\"dataframe\">\n",
       "  <thead>\n",
       "    <tr style=\"text-align: right;\">\n",
       "      <th></th>\n",
       "      <th>Unnamed: 0</th>\n",
       "      <th>LotFrontage</th>\n",
       "      <th>LotArea</th>\n",
       "      <th>LandSlope</th>\n",
       "      <th>OverallQual</th>\n",
       "      <th>OverallCond</th>\n",
       "      <th>YearBuilt</th>\n",
       "      <th>YearRemodAdd</th>\n",
       "      <th>MasVnrArea</th>\n",
       "      <th>ExterQual</th>\n",
       "      <th>...</th>\n",
       "      <th>SaleType_conlw</th>\n",
       "      <th>SaleType_cwd</th>\n",
       "      <th>SaleType_new</th>\n",
       "      <th>SaleType_oth</th>\n",
       "      <th>SaleType_wd</th>\n",
       "      <th>SaleCondition_adjland</th>\n",
       "      <th>SaleCondition_alloca</th>\n",
       "      <th>SaleCondition_family</th>\n",
       "      <th>SaleCondition_normal</th>\n",
       "      <th>SaleCondition_partial</th>\n",
       "    </tr>\n",
       "  </thead>\n",
       "  <tbody>\n",
       "    <tr>\n",
       "      <td>0</td>\n",
       "      <td>0</td>\n",
       "      <td>65</td>\n",
       "      <td>8450</td>\n",
       "      <td>3</td>\n",
       "      <td>7</td>\n",
       "      <td>5</td>\n",
       "      <td>2003</td>\n",
       "      <td>2003</td>\n",
       "      <td>196</td>\n",
       "      <td>4</td>\n",
       "      <td>...</td>\n",
       "      <td>0</td>\n",
       "      <td>0</td>\n",
       "      <td>0</td>\n",
       "      <td>0</td>\n",
       "      <td>1</td>\n",
       "      <td>0</td>\n",
       "      <td>0</td>\n",
       "      <td>0</td>\n",
       "      <td>1</td>\n",
       "      <td>0</td>\n",
       "    </tr>\n",
       "    <tr>\n",
       "      <td>1</td>\n",
       "      <td>1</td>\n",
       "      <td>80</td>\n",
       "      <td>9600</td>\n",
       "      <td>3</td>\n",
       "      <td>6</td>\n",
       "      <td>8</td>\n",
       "      <td>1976</td>\n",
       "      <td>1976</td>\n",
       "      <td>0</td>\n",
       "      <td>3</td>\n",
       "      <td>...</td>\n",
       "      <td>0</td>\n",
       "      <td>0</td>\n",
       "      <td>0</td>\n",
       "      <td>0</td>\n",
       "      <td>1</td>\n",
       "      <td>0</td>\n",
       "      <td>0</td>\n",
       "      <td>0</td>\n",
       "      <td>1</td>\n",
       "      <td>0</td>\n",
       "    </tr>\n",
       "    <tr>\n",
       "      <td>2</td>\n",
       "      <td>2</td>\n",
       "      <td>68</td>\n",
       "      <td>11250</td>\n",
       "      <td>3</td>\n",
       "      <td>7</td>\n",
       "      <td>5</td>\n",
       "      <td>2001</td>\n",
       "      <td>2002</td>\n",
       "      <td>162</td>\n",
       "      <td>4</td>\n",
       "      <td>...</td>\n",
       "      <td>0</td>\n",
       "      <td>0</td>\n",
       "      <td>0</td>\n",
       "      <td>0</td>\n",
       "      <td>1</td>\n",
       "      <td>0</td>\n",
       "      <td>0</td>\n",
       "      <td>0</td>\n",
       "      <td>1</td>\n",
       "      <td>0</td>\n",
       "    </tr>\n",
       "    <tr>\n",
       "      <td>3</td>\n",
       "      <td>3</td>\n",
       "      <td>60</td>\n",
       "      <td>9550</td>\n",
       "      <td>3</td>\n",
       "      <td>7</td>\n",
       "      <td>5</td>\n",
       "      <td>1915</td>\n",
       "      <td>1970</td>\n",
       "      <td>0</td>\n",
       "      <td>3</td>\n",
       "      <td>...</td>\n",
       "      <td>0</td>\n",
       "      <td>0</td>\n",
       "      <td>0</td>\n",
       "      <td>0</td>\n",
       "      <td>1</td>\n",
       "      <td>0</td>\n",
       "      <td>0</td>\n",
       "      <td>0</td>\n",
       "      <td>0</td>\n",
       "      <td>0</td>\n",
       "    </tr>\n",
       "    <tr>\n",
       "      <td>4</td>\n",
       "      <td>4</td>\n",
       "      <td>84</td>\n",
       "      <td>14260</td>\n",
       "      <td>3</td>\n",
       "      <td>8</td>\n",
       "      <td>5</td>\n",
       "      <td>2000</td>\n",
       "      <td>2000</td>\n",
       "      <td>350</td>\n",
       "      <td>4</td>\n",
       "      <td>...</td>\n",
       "      <td>0</td>\n",
       "      <td>0</td>\n",
       "      <td>0</td>\n",
       "      <td>0</td>\n",
       "      <td>1</td>\n",
       "      <td>0</td>\n",
       "      <td>0</td>\n",
       "      <td>0</td>\n",
       "      <td>1</td>\n",
       "      <td>0</td>\n",
       "    </tr>\n",
       "  </tbody>\n",
       "</table>\n",
       "<p>5 rows × 226 columns</p>\n",
       "</div>"
      ],
      "text/plain": [
       "   Unnamed: 0  LotFrontage  LotArea  LandSlope  OverallQual  OverallCond  \\\n",
       "0           0           65     8450          3            7            5   \n",
       "1           1           80     9600          3            6            8   \n",
       "2           2           68    11250          3            7            5   \n",
       "3           3           60     9550          3            7            5   \n",
       "4           4           84    14260          3            8            5   \n",
       "\n",
       "   YearBuilt  YearRemodAdd  MasVnrArea  ExterQual  ...  SaleType_conlw  \\\n",
       "0       2003          2003         196          4  ...               0   \n",
       "1       1976          1976           0          3  ...               0   \n",
       "2       2001          2002         162          4  ...               0   \n",
       "3       1915          1970           0          3  ...               0   \n",
       "4       2000          2000         350          4  ...               0   \n",
       "\n",
       "   SaleType_cwd  SaleType_new  SaleType_oth  SaleType_wd  \\\n",
       "0             0             0             0            1   \n",
       "1             0             0             0            1   \n",
       "2             0             0             0            1   \n",
       "3             0             0             0            1   \n",
       "4             0             0             0            1   \n",
       "\n",
       "   SaleCondition_adjland  SaleCondition_alloca  SaleCondition_family  \\\n",
       "0                      0                     0                     0   \n",
       "1                      0                     0                     0   \n",
       "2                      0                     0                     0   \n",
       "3                      0                     0                     0   \n",
       "4                      0                     0                     0   \n",
       "\n",
       "   SaleCondition_normal  SaleCondition_partial  \n",
       "0                     1                      0  \n",
       "1                     1                      0  \n",
       "2                     1                      0  \n",
       "3                     0                      0  \n",
       "4                     1                      0  \n",
       "\n",
       "[5 rows x 226 columns]"
      ]
     },
     "execution_count": 152,
     "metadata": {},
     "output_type": "execute_result"
    }
   ],
   "source": [
    "df2.head()"
   ]
  },
  {
   "cell_type": "markdown",
   "metadata": {},
   "source": [
    "## Exploratory Data Analysis"
   ]
  },
  {
   "cell_type": "code",
   "execution_count": 48,
   "metadata": {},
   "outputs": [
    {
     "name": "stdout",
     "output_type": "stream",
     "text": [
      "mu = 180921.20, sigma = 79415.29\n"
     ]
    },
    {
     "data": {
      "image/png": "[encoded data removed]",
      "text/plain": [
       "<Figure size 1008x288 with 2 Axes>"
      ]
     },
     "metadata": {
      "needs_background": "light"
     },
     "output_type": "display_data"
    }
   ],
   "source": [
    "#Check distribution of SalePrice and QQ plot \n",
    "fig, (ax1, ax2) = plt.subplots(1, 2, figsize = (14, 4))\n",
    "sns.distplot(df['SalePrice'], fit=norm, ax = ax1)\n",
    "\n",
    "#Find mean and standard deviation\n",
    "(mu, sigma) = norm.fit(df1['SalePrice'])\n",
    "print('mu = {:.2f}, sigma = {:.2f}'.format(mu, sigma))\n",
    "\n",
    "#Set labels and legend \n",
    "ax1.legend(['$\\mu=$ {:.2f}, $\\sigma=$ {:.2f}'.format(mu, sigma)],loc='best')\n",
    "ax1.set_xlabel('SalePrice ($)')\n",
    "ax1.set_ylabel('Frequency')\n",
    "ax1.set_title('Distribution of SalePrice (no transformation)')\n",
    "\n",
    "#QQ plot\n",
    "ax2 = plt.subplot(122)\n",
    "res = stats.probplot(df1['SalePrice'], plot=plt)\n",
    "plt.show()"
   ]
  },
  {
   "cell_type": "code",
   "execution_count": 77,
   "metadata": {},
   "outputs": [],
   "source": [
    "#Transform SalePrice using log \n",
    "y_log = np.log1p(df1['SalePrice'])"
   ]
  },
  {
   "cell_type": "code",
   "execution_count": 61,
   "metadata": {},
   "outputs": [
    {
     "name": "stdout",
     "output_type": "stream",
     "text": [
      "mu = 12.02, sigma = 0.40\n"
     ]
    },
    {
     "data": {
      "image/png": "[encoded data removed]",
      "text/plain": [
       "<Figure size 1008x288 with 2 Axes>"
      ]
     },
     "metadata": {
      "needs_background": "light"
     },
     "output_type": "display_data"
    }
   ],
   "source": [
    "#Check distribution of log-transformed SalePrice\n",
    "fig, (ax1, ax2) = plt.subplots(1, 2, figsize = (14, 4))\n",
    "sns.distplot(y_log, fit=norm, ax = ax1)\n",
    "\n",
    "#Find mean and standard deviation\n",
    "(mu, sigma) = norm.fit(y_log)\n",
    "print('mu = {:.2f}, sigma = {:.2f}'.format(mu, sigma))\n",
    "\n",
    "#Set labels and legend \n",
    "ax1.legend(['$\\mu=$ {:.2f}, $\\sigma=$ {:.2f}'.format(mu, sigma)],loc='best')\n",
    "ax1.set_xlabel('log(SalePrice)')\n",
    "ax1.set_ylabel('Frequency')\n",
    "ax1.set_title('Distribution of SalePrice (log transformation)')\n",
    "\n",
    "#QQ plot\n",
    "ax2 = plt.subplot(122)\n",
    "res = stats.probplot(y_log, plot=plt)\n",
    "plt.show()"
   ]
  },
  {
   "cell_type": "code",
   "execution_count": 153,
   "metadata": {},
   "outputs": [
    {
     "data": {
      "text/plain": [
       "<matplotlib.axes._subplots.AxesSubplot at 0x128635e10>"
      ]
     },
     "execution_count": 153,
     "metadata": {},
     "output_type": "execute_result"
    },
    {
     "data": {
      "image/png": "[encoded data removed]",
      "text/plain": [
       "<Figure size 648x576 with 2 Axes>"
      ]
     },
     "metadata": {
      "needs_background": "light"
     },
     "output_type": "display_data"
    }
   ],
   "source": [
    "#Create a correlation heatmap \n",
    "corrmat = df1.corr() \n",
    "colormap = plt.cm.RdBu\n",
    "f, ax = plt.subplots(figsize =(9, 8)) \n",
    "sns.heatmap(corrmat, ax = ax, cmap =colormap, linewidths = 0.1)"
   ]
  },
  {
   "cell_type": "code",
   "execution_count": 54,
   "metadata": {
    "scrolled": true
   },
   "outputs": [
    {
     "data": {
      "text/plain": [
       "OverallQual   GarageCars      0.600671\n",
       "              SalePrice       0.790982\n",
       "YearBuilt     GarageYrBlt     0.825667\n",
       "YearRemodAdd  GarageYrBlt     0.642277\n",
       "BsmtFinSF1    BsmtFullBath    0.649212\n",
       "TotalBsmtSF   1stFlrSF        0.819530\n",
       "              SalePrice       0.613581\n",
       "1stFlrSF      TotalBsmtSF     0.819530\n",
       "              SalePrice       0.605852\n",
       "2ndFlrSF      GrLivArea       0.687501\n",
       "              HalfBath        0.609707\n",
       "              TotRmsAbvGrd    0.616423\n",
       "GrLivArea     2ndFlrSF        0.687501\n",
       "              FullBath        0.630012\n",
       "              TotRmsAbvGrd    0.825489\n",
       "              SalePrice       0.708624\n",
       "BsmtFullBath  BsmtFinSF1      0.649212\n",
       "FullBath      GrLivArea       0.630012\n",
       "HalfBath      2ndFlrSF        0.609707\n",
       "BedroomAbvGr  TotRmsAbvGrd    0.676620\n",
       "TotRmsAbvGrd  2ndFlrSF        0.616423\n",
       "              GrLivArea       0.825489\n",
       "              BedroomAbvGr    0.676620\n",
       "GarageYrBlt   YearBuilt       0.825667\n",
       "              YearRemodAdd    0.642277\n",
       "GarageCars    OverallQual     0.600671\n",
       "              GarageArea      0.882475\n",
       "              SalePrice       0.640409\n",
       "GarageArea    GarageCars      0.882475\n",
       "              SalePrice       0.623431\n",
       "SalePrice     OverallQual     0.790982\n",
       "              TotalBsmtSF     0.613581\n",
       "              1stFlrSF        0.605852\n",
       "              GrLivArea       0.708624\n",
       "              GarageCars      0.640409\n",
       "              GarageArea      0.623431\n",
       "dtype: float64"
      ]
     },
     "execution_count": 54,
     "metadata": {},
     "output_type": "execute_result"
    }
   ],
   "source": [
    "#Check which features have the highest correlation with each other\n",
    "corr_features = corrmat.unstack()\n",
    "corr_features[(abs(corr_features)>0.6) & (abs(corr_features) < 1)]"
   ]
  },
  {
   "cell_type": "code",
   "execution_count": 116,
   "metadata": {},
   "outputs": [],
   "source": [
    "#Create new features\n",
    "\n",
    "#Combine bath variables into TotalBathrooms to check if correlation is higher with SalePrice\n",
    "df['TotalBathrooms'] = df['FullBath'] + (df['HalfBath'] * 0.5) + df['BsmtFullBath'] + (df['BsmtHalfBath'] * 0.5)\n",
    "\n",
    "#Combine porch variables except WoodenDeck to check if correlation is higher with SalePrice\n",
    "df['TotalPorch'] = df['OpenPorchSF'] + df['EnclosedPorch'] + df['3SsnPorch'] + df['ScreenPorch']\n",
    "\n",
    "#Combine square footage above and below ground to give total square footage of the house\n",
    "df['TotalSqrFeet'] = df['GrLivArea'] + df['TotalBsmtSF']"
   ]
  },
  {
   "cell_type": "markdown",
   "metadata": {},
   "source": [
    "## Skewed Features"
   ]
  },
  {
   "cell_type": "code",
   "execution_count": 47,
   "metadata": {},
   "outputs": [
    {
     "data": {
      "text/plain": [
       "<seaborn.axisgrid.JointGrid at 0x128426bd0>"
      ]
     },
     "execution_count": 47,
     "metadata": {},
     "output_type": "execute_result"
    },
    {
     "data": {
      "image/png": "[encoded data removed]",
      "text/plain": [
       "<Figure size 432x432 with 3 Axes>"
      ]
     },
     "metadata": {
      "needs_background": "light"
     },
     "output_type": "display_data"
    },
    {
     "data": {
      "image/png": "[encoded data removed]",
      "text/plain": [
       "<Figure size 432x432 with 3 Axes>"
      ]
     },
     "metadata": {
      "needs_background": "light"
     },
     "output_type": "display_data"
    }
   ],
   "source": [
    "#Check which features in the dataset are skewed \n",
    "g1 = sns.jointplot(df['LotFrontage'], y_log, data=df, kind=\"kde\", color=\"b\")\n",
    "g1.plot_joint(plt.scatter, c=\"b\", s=30, linewidth=1, marker=\".\")\n",
    "g1.ax_joint.collections[0].set_alpha(0)\n",
    "g1.set_axis_labels(\"LotFrontage\", \"log(SalePrice)\")\n",
    "\n",
    "g2 = sns.jointplot(df['LotFrontage'],y_log, s = 10)\n",
    "g1.plot_joint(plt.scatter, c=\"b\", s=30, linewidth=1, marker=\".\")\n",
    "g2.set_axis_labels('LotFrontage', 'log(SalePrice)', fontsize=12)"
   ]
  },
  {
   "cell_type": "code",
   "execution_count": 117,
   "metadata": {},
   "outputs": [
    {
     "name": "stdout",
     "output_type": "stream",
     "text": [
      "\n",
      "Skew in numerical features: \n",
      "\n"
     ]
    },
    {
     "data": {
      "text/html": [
       "<div>\n",
       "<style scoped>\n",
       "    .dataframe tbody tr th:only-of-type {\n",
       "        vertical-align: middle;\n",
       "    }\n",
       "\n",
       "    .dataframe tbody tr th {\n",
       "        vertical-align: top;\n",
       "    }\n",
       "\n",
       "    .dataframe thead th {\n",
       "        text-align: right;\n",
       "    }\n",
       "</style>\n",
       "<table border=\"1\" class=\"dataframe\">\n",
       "  <thead>\n",
       "    <tr style=\"text-align: right;\">\n",
       "      <th></th>\n",
       "      <th>Skew</th>\n",
       "    </tr>\n",
       "  </thead>\n",
       "  <tbody>\n",
       "    <tr>\n",
       "      <td>RoofMatl_membran</td>\n",
       "      <td>38.170678</td>\n",
       "    </tr>\n",
       "    <tr>\n",
       "      <td>MiscFeature_tenc</td>\n",
       "      <td>38.170678</td>\n",
       "    </tr>\n",
       "    <tr>\n",
       "      <td>Exterior2nd_cblock</td>\n",
       "      <td>38.170678</td>\n",
       "    </tr>\n",
       "    <tr>\n",
       "      <td>Exterior1st_imstucc</td>\n",
       "      <td>38.170678</td>\n",
       "    </tr>\n",
       "    <tr>\n",
       "      <td>Exterior1st_cblock</td>\n",
       "      <td>38.170678</td>\n",
       "    </tr>\n",
       "    <tr>\n",
       "      <td>...</td>\n",
       "      <td>...</td>\n",
       "    </tr>\n",
       "    <tr>\n",
       "      <td>Functional</td>\n",
       "      <td>-4.907166</td>\n",
       "    </tr>\n",
       "    <tr>\n",
       "      <td>Heating_gasa</td>\n",
       "      <td>-6.530498</td>\n",
       "    </tr>\n",
       "    <tr>\n",
       "      <td>RoofMatl_compshg</td>\n",
       "      <td>-7.291912</td>\n",
       "    </tr>\n",
       "    <tr>\n",
       "      <td>Condition2_norm</td>\n",
       "      <td>-9.713069</td>\n",
       "    </tr>\n",
       "    <tr>\n",
       "      <td>Street_pave</td>\n",
       "      <td>-15.502821</td>\n",
       "    </tr>\n",
       "  </tbody>\n",
       "</table>\n",
       "<p>229 rows × 1 columns</p>\n",
       "</div>"
      ],
      "text/plain": [
       "                          Skew\n",
       "RoofMatl_membran     38.170678\n",
       "MiscFeature_tenc     38.170678\n",
       "Exterior2nd_cblock   38.170678\n",
       "Exterior1st_imstucc  38.170678\n",
       "Exterior1st_cblock   38.170678\n",
       "...                        ...\n",
       "Functional           -4.907166\n",
       "Heating_gasa         -6.530498\n",
       "RoofMatl_compshg     -7.291912\n",
       "Condition2_norm      -9.713069\n",
       "Street_pave         -15.502821\n",
       "\n",
       "[229 rows x 1 columns]"
      ]
     },
     "execution_count": 117,
     "metadata": {},
     "output_type": "execute_result"
    }
   ],
   "source": [
    "#Check how skewed the numerical features are\n",
    "num_features = df.dtypes[df.dtypes != \"object\"].index\n",
    "skewed_features = df[num_features].apply(lambda x: skew(x)).sort_values(ascending=False)\n",
    "print(\"\\nSkew in numerical features: \\n\")\n",
    "skewness = pd.DataFrame({'Skew' :skewed_features})\n",
    "skewness"
   ]
  },
  {
   "cell_type": "code",
   "execution_count": 118,
   "metadata": {},
   "outputs": [
    {
     "name": "stdout",
     "output_type": "stream",
     "text": [
      "There are 229 skewed numerical features to BoxCox transform\n"
     ]
    }
   ],
   "source": [
    "#Check how many skewed features above 0.75 there are.  0.75 is chosen as the baseline for moderate-severe skewness.\n",
    "skewness = skewness[abs(skewness) > 0.75]\n",
    "print(\"There are {} skewed numerical features to BoxCox transform\".format(skewness.shape[0]))\n",
    "skewed_feats = skewness.index\n",
    "\n",
    "lam = 0.15\n",
    "for x in skewed_feats:\n",
    "    df[x] = boxcox1p(df[x], lam)\n",
    "    df[x] += 1"
   ]
  },
  {
   "cell_type": "code",
   "execution_count": 144,
   "metadata": {},
   "outputs": [],
   "source": [
    "#Final changes to dataset before hyperparameter tuning.  We need to drop SalePrice\n",
    "y = df['SalePrice'].reset_index(drop=True)\n",
    "X = df.drop('SalePrice', axis =1)\n",
    "#df.drop(\"Id\", axis = 1, inplace = True)\n",
    "#X = df.iloc[:len(y_log),:]\n"
   ]
  },
  {
   "cell_type": "code",
   "execution_count": 145,
   "metadata": {},
   "outputs": [
    {
     "data": {
      "text/html": [
       "<div>\n",
       "<style scoped>\n",
       "    .dataframe tbody tr th:only-of-type {\n",
       "        vertical-align: middle;\n",
       "    }\n",
       "\n",
       "    .dataframe tbody tr th {\n",
       "        vertical-align: top;\n",
       "    }\n",
       "\n",
       "    .dataframe thead th {\n",
       "        text-align: right;\n",
       "    }\n",
       "</style>\n",
       "<table border=\"1\" class=\"dataframe\">\n",
       "  <thead>\n",
       "    <tr style=\"text-align: right;\">\n",
       "      <th></th>\n",
       "      <th>Unnamed: 0</th>\n",
       "      <th>LotFrontage</th>\n",
       "      <th>LotArea</th>\n",
       "      <th>LandSlope</th>\n",
       "      <th>OverallQual</th>\n",
       "      <th>OverallCond</th>\n",
       "      <th>YearBuilt</th>\n",
       "      <th>YearRemodAdd</th>\n",
       "      <th>MasVnrArea</th>\n",
       "      <th>ExterQual</th>\n",
       "      <th>...</th>\n",
       "      <th>SaleType_oth</th>\n",
       "      <th>SaleType_wd</th>\n",
       "      <th>SaleCondition_adjland</th>\n",
       "      <th>SaleCondition_alloca</th>\n",
       "      <th>SaleCondition_family</th>\n",
       "      <th>SaleCondition_normal</th>\n",
       "      <th>SaleCondition_partial</th>\n",
       "      <th>TotalBathrooms</th>\n",
       "      <th>TotalPorch</th>\n",
       "      <th>TotalSqrFeet</th>\n",
       "    </tr>\n",
       "  </thead>\n",
       "  <tbody>\n",
       "    <tr>\n",
       "      <td>0</td>\n",
       "      <td>1.000000</td>\n",
       "      <td>6.831328</td>\n",
       "      <td>20.212182</td>\n",
       "      <td>2.540963</td>\n",
       "      <td>3.440268</td>\n",
       "      <td>3.055642</td>\n",
       "      <td>15.187527</td>\n",
       "      <td>15.187527</td>\n",
       "      <td>9.059126</td>\n",
       "      <td>2.820334</td>\n",
       "      <td>...</td>\n",
       "      <td>1.0</td>\n",
       "      <td>1.730463</td>\n",
       "      <td>1.0</td>\n",
       "      <td>1.0</td>\n",
       "      <td>1.0</td>\n",
       "      <td>1.730463</td>\n",
       "      <td>1.0</td>\n",
       "      <td>2.687259</td>\n",
       "      <td>6.714669</td>\n",
       "      <td>15.976591</td>\n",
       "    </tr>\n",
       "    <tr>\n",
       "      <td>1</td>\n",
       "      <td>1.730463</td>\n",
       "      <td>7.221214</td>\n",
       "      <td>20.712205</td>\n",
       "      <td>2.540963</td>\n",
       "      <td>3.259674</td>\n",
       "      <td>3.602594</td>\n",
       "      <td>15.145138</td>\n",
       "      <td>15.145138</td>\n",
       "      <td>1.000000</td>\n",
       "      <td>2.540963</td>\n",
       "      <td>...</td>\n",
       "      <td>1.0</td>\n",
       "      <td>1.730463</td>\n",
       "      <td>1.0</td>\n",
       "      <td>1.0</td>\n",
       "      <td>1.0</td>\n",
       "      <td>1.730463</td>\n",
       "      <td>1.0</td>\n",
       "      <td>2.378202</td>\n",
       "      <td>1.000000</td>\n",
       "      <td>15.923100</td>\n",
       "    </tr>\n",
       "    <tr>\n",
       "      <td>2</td>\n",
       "      <td>2.194318</td>\n",
       "      <td>6.914940</td>\n",
       "      <td>21.347241</td>\n",
       "      <td>2.540963</td>\n",
       "      <td>3.440268</td>\n",
       "      <td>3.055642</td>\n",
       "      <td>15.184404</td>\n",
       "      <td>15.185966</td>\n",
       "      <td>8.646538</td>\n",
       "      <td>2.820334</td>\n",
       "      <td>...</td>\n",
       "      <td>1.0</td>\n",
       "      <td>1.730463</td>\n",
       "      <td>1.0</td>\n",
       "      <td>1.0</td>\n",
       "      <td>1.0</td>\n",
       "      <td>1.730463</td>\n",
       "      <td>1.0</td>\n",
       "      <td>2.687259</td>\n",
       "      <td>6.053371</td>\n",
       "      <td>16.149678</td>\n",
       "    </tr>\n",
       "    <tr>\n",
       "      <td>3</td>\n",
       "      <td>2.540963</td>\n",
       "      <td>6.684507</td>\n",
       "      <td>20.691553</td>\n",
       "      <td>2.540963</td>\n",
       "      <td>3.440268</td>\n",
       "      <td>3.055642</td>\n",
       "      <td>15.047529</td>\n",
       "      <td>15.135652</td>\n",
       "      <td>1.000000</td>\n",
       "      <td>2.540963</td>\n",
       "      <td>...</td>\n",
       "      <td>1.0</td>\n",
       "      <td>1.730463</td>\n",
       "      <td>1.0</td>\n",
       "      <td>1.0</td>\n",
       "      <td>1.0</td>\n",
       "      <td>1.000000</td>\n",
       "      <td>1.0</td>\n",
       "      <td>2.194318</td>\n",
       "      <td>10.080098</td>\n",
       "      <td>15.857121</td>\n",
       "    </tr>\n",
       "    <tr>\n",
       "      <td>4</td>\n",
       "      <td>2.820334</td>\n",
       "      <td>7.314735</td>\n",
       "      <td>22.325160</td>\n",
       "      <td>2.540963</td>\n",
       "      <td>3.602594</td>\n",
       "      <td>3.055642</td>\n",
       "      <td>15.182841</td>\n",
       "      <td>15.182841</td>\n",
       "      <td>10.391827</td>\n",
       "      <td>2.820334</td>\n",
       "      <td>...</td>\n",
       "      <td>1.0</td>\n",
       "      <td>1.730463</td>\n",
       "      <td>1.0</td>\n",
       "      <td>1.0</td>\n",
       "      <td>1.0</td>\n",
       "      <td>1.730463</td>\n",
       "      <td>1.0</td>\n",
       "      <td>2.687259</td>\n",
       "      <td>7.314735</td>\n",
       "      <td>16.852312</td>\n",
       "    </tr>\n",
       "    <tr>\n",
       "      <td>...</td>\n",
       "      <td>...</td>\n",
       "      <td>...</td>\n",
       "      <td>...</td>\n",
       "      <td>...</td>\n",
       "      <td>...</td>\n",
       "      <td>...</td>\n",
       "      <td>...</td>\n",
       "      <td>...</td>\n",
       "      <td>...</td>\n",
       "      <td>...</td>\n",
       "      <td>...</td>\n",
       "      <td>...</td>\n",
       "      <td>...</td>\n",
       "      <td>...</td>\n",
       "      <td>...</td>\n",
       "      <td>...</td>\n",
       "      <td>...</td>\n",
       "      <td>...</td>\n",
       "      <td>...</td>\n",
       "      <td>...</td>\n",
       "      <td>...</td>\n",
       "    </tr>\n",
       "    <tr>\n",
       "      <td>1455</td>\n",
       "      <td>14.211803</td>\n",
       "      <td>6.744420</td>\n",
       "      <td>19.960528</td>\n",
       "      <td>2.540963</td>\n",
       "      <td>3.259674</td>\n",
       "      <td>3.055642</td>\n",
       "      <td>15.181278</td>\n",
       "      <td>15.182841</td>\n",
       "      <td>1.000000</td>\n",
       "      <td>2.540963</td>\n",
       "      <td>...</td>\n",
       "      <td>1.0</td>\n",
       "      <td>1.730463</td>\n",
       "      <td>1.0</td>\n",
       "      <td>1.0</td>\n",
       "      <td>1.0</td>\n",
       "      <td>1.730463</td>\n",
       "      <td>1.0</td>\n",
       "      <td>2.378202</td>\n",
       "      <td>5.969939</td>\n",
       "      <td>16.019350</td>\n",
       "    </tr>\n",
       "    <tr>\n",
       "      <td>1456</td>\n",
       "      <td>14.213850</td>\n",
       "      <td>7.337529</td>\n",
       "      <td>21.994868</td>\n",
       "      <td>2.540963</td>\n",
       "      <td>3.259674</td>\n",
       "      <td>3.259674</td>\n",
       "      <td>15.148295</td>\n",
       "      <td>15.164038</td>\n",
       "      <td>8.003881</td>\n",
       "      <td>2.540963</td>\n",
       "      <td>...</td>\n",
       "      <td>1.0</td>\n",
       "      <td>1.730463</td>\n",
       "      <td>1.0</td>\n",
       "      <td>1.0</td>\n",
       "      <td>1.0</td>\n",
       "      <td>1.730463</td>\n",
       "      <td>1.0</td>\n",
       "      <td>2.540963</td>\n",
       "      <td>1.000000</td>\n",
       "      <td>17.118017</td>\n",
       "    </tr>\n",
       "    <tr>\n",
       "      <td>1457</td>\n",
       "      <td>14.215896</td>\n",
       "      <td>6.859551</td>\n",
       "      <td>20.476345</td>\n",
       "      <td>2.540963</td>\n",
       "      <td>3.440268</td>\n",
       "      <td>3.750250</td>\n",
       "      <td>15.089451</td>\n",
       "      <td>15.192207</td>\n",
       "      <td>1.000000</td>\n",
       "      <td>3.055642</td>\n",
       "      <td>...</td>\n",
       "      <td>1.0</td>\n",
       "      <td>1.730463</td>\n",
       "      <td>1.0</td>\n",
       "      <td>1.0</td>\n",
       "      <td>1.0</td>\n",
       "      <td>1.730463</td>\n",
       "      <td>1.0</td>\n",
       "      <td>2.194318</td>\n",
       "      <td>6.684507</td>\n",
       "      <td>17.000045</td>\n",
       "    </tr>\n",
       "    <tr>\n",
       "      <td>1458</td>\n",
       "      <td>14.217941</td>\n",
       "      <td>6.914940</td>\n",
       "      <td>20.760176</td>\n",
       "      <td>2.540963</td>\n",
       "      <td>3.055642</td>\n",
       "      <td>3.259674</td>\n",
       "      <td>15.103852</td>\n",
       "      <td>15.176584</td>\n",
       "      <td>1.000000</td>\n",
       "      <td>2.540963</td>\n",
       "      <td>...</td>\n",
       "      <td>1.0</td>\n",
       "      <td>1.730463</td>\n",
       "      <td>1.0</td>\n",
       "      <td>1.0</td>\n",
       "      <td>1.0</td>\n",
       "      <td>1.730463</td>\n",
       "      <td>1.0</td>\n",
       "      <td>2.194318</td>\n",
       "      <td>7.881187</td>\n",
       "      <td>15.418948</td>\n",
       "    </tr>\n",
       "    <tr>\n",
       "      <td>1459</td>\n",
       "      <td>14.219985</td>\n",
       "      <td>7.098626</td>\n",
       "      <td>20.849063</td>\n",
       "      <td>2.540963</td>\n",
       "      <td>3.055642</td>\n",
       "      <td>3.259674</td>\n",
       "      <td>15.127727</td>\n",
       "      <td>15.127727</td>\n",
       "      <td>1.000000</td>\n",
       "      <td>2.820334</td>\n",
       "      <td>...</td>\n",
       "      <td>1.0</td>\n",
       "      <td>1.730463</td>\n",
       "      <td>1.0</td>\n",
       "      <td>1.0</td>\n",
       "      <td>1.0</td>\n",
       "      <td>1.730463</td>\n",
       "      <td>1.0</td>\n",
       "      <td>2.378202</td>\n",
       "      <td>6.914940</td>\n",
       "      <td>15.907678</td>\n",
       "    </tr>\n",
       "  </tbody>\n",
       "</table>\n",
       "<p>1460 rows × 228 columns</p>\n",
       "</div>"
      ],
      "text/plain": [
       "      Unnamed: 0  LotFrontage    LotArea  LandSlope  OverallQual  OverallCond  \\\n",
       "0       1.000000     6.831328  20.212182   2.540963     3.440268     3.055642   \n",
       "1       1.730463     7.221214  20.712205   2.540963     3.259674     3.602594   \n",
       "2       2.194318     6.914940  21.347241   2.540963     3.440268     3.055642   \n",
       "3       2.540963     6.684507  20.691553   2.540963     3.440268     3.055642   \n",
       "4       2.820334     7.314735  22.325160   2.540963     3.602594     3.055642   \n",
       "...          ...          ...        ...        ...          ...          ...   \n",
       "1455   14.211803     6.744420  19.960528   2.540963     3.259674     3.055642   \n",
       "1456   14.213850     7.337529  21.994868   2.540963     3.259674     3.259674   \n",
       "1457   14.215896     6.859551  20.476345   2.540963     3.440268     3.750250   \n",
       "1458   14.217941     6.914940  20.760176   2.540963     3.055642     3.259674   \n",
       "1459   14.219985     7.098626  20.849063   2.540963     3.055642     3.259674   \n",
       "\n",
       "      YearBuilt  YearRemodAdd  MasVnrArea  ExterQual  ...  SaleType_oth  \\\n",
       "0     15.187527     15.187527    9.059126   2.820334  ...           1.0   \n",
       "1     15.145138     15.145138    1.000000   2.540963  ...           1.0   \n",
       "2     15.184404     15.185966    8.646538   2.820334  ...           1.0   \n",
       "3     15.047529     15.135652    1.000000   2.540963  ...           1.0   \n",
       "4     15.182841     15.182841   10.391827   2.820334  ...           1.0   \n",
       "...         ...           ...         ...        ...  ...           ...   \n",
       "1455  15.181278     15.182841    1.000000   2.540963  ...           1.0   \n",
       "1456  15.148295     15.164038    8.003881   2.540963  ...           1.0   \n",
       "1457  15.089451     15.192207    1.000000   3.055642  ...           1.0   \n",
       "1458  15.103852     15.176584    1.000000   2.540963  ...           1.0   \n",
       "1459  15.127727     15.127727    1.000000   2.820334  ...           1.0   \n",
       "\n",
       "      SaleType_wd  SaleCondition_adjland  SaleCondition_alloca  \\\n",
       "0        1.730463                    1.0                   1.0   \n",
       "1        1.730463                    1.0                   1.0   \n",
       "2        1.730463                    1.0                   1.0   \n",
       "3        1.730463                    1.0                   1.0   \n",
       "4        1.730463                    1.0                   1.0   \n",
       "...           ...                    ...                   ...   \n",
       "1455     1.730463                    1.0                   1.0   \n",
       "1456     1.730463                    1.0                   1.0   \n",
       "1457     1.730463                    1.0                   1.0   \n",
       "1458     1.730463                    1.0                   1.0   \n",
       "1459     1.730463                    1.0                   1.0   \n",
       "\n",
       "      SaleCondition_family  SaleCondition_normal  SaleCondition_partial  \\\n",
       "0                      1.0              1.730463                    1.0   \n",
       "1                      1.0              1.730463                    1.0   \n",
       "2                      1.0              1.730463                    1.0   \n",
       "3                      1.0              1.000000                    1.0   \n",
       "4                      1.0              1.730463                    1.0   \n",
       "...                    ...                   ...                    ...   \n",
       "1455                   1.0              1.730463                    1.0   \n",
       "1456                   1.0              1.730463                    1.0   \n",
       "1457                   1.0              1.730463                    1.0   \n",
       "1458                   1.0              1.730463                    1.0   \n",
       "1459                   1.0              1.730463                    1.0   \n",
       "\n",
       "      TotalBathrooms  TotalPorch  TotalSqrFeet  \n",
       "0           2.687259    6.714669     15.976591  \n",
       "1           2.378202    1.000000     15.923100  \n",
       "2           2.687259    6.053371     16.149678  \n",
       "3           2.194318   10.080098     15.857121  \n",
       "4           2.687259    7.314735     16.852312  \n",
       "...              ...         ...           ...  \n",
       "1455        2.378202    5.969939     16.019350  \n",
       "1456        2.540963    1.000000     17.118017  \n",
       "1457        2.194318    6.684507     17.000045  \n",
       "1458        2.194318    7.881187     15.418948  \n",
       "1459        2.378202    6.914940     15.907678  \n",
       "\n",
       "[1460 rows x 228 columns]"
      ]
     },
     "execution_count": 145,
     "metadata": {},
     "output_type": "execute_result"
    }
   ],
   "source": [
    "X"
   ]
  },
  {
   "cell_type": "markdown",
   "metadata": {},
   "source": [
    "## Train/Test Split and K-Fold CV"
   ]
  },
  {
   "cell_type": "code",
   "execution_count": 120,
   "metadata": {},
   "outputs": [],
   "source": [
    "#Train, test, split the data and then save the resulting files to a csv file\n",
    "random.seed(4)\n",
    "X_train, X_test, y_train, y_test = train_test_split(X_, y_log, test_size=0.2, random_state = 4)\n",
    "#X_train.to_csv('data/X_train.csv')\n",
    "#y_train.to_csv('data/y_train.csv')\n",
    "#X_test.to_csv('data/X_test.csv')\n",
    "#y_test.to_csv('data/y_test.csv')"
   ]
  },
  {
   "cell_type": "code",
   "execution_count": 121,
   "metadata": {},
   "outputs": [],
   "source": [
    "#K-Fold with 5 splits set to an arbitrary random state\n",
    "kf = KFold(n_splits = 5, shuffle = True, random_state = 4)"
   ]
  },
  {
   "cell_type": "code",
   "execution_count": 122,
   "metadata": {},
   "outputs": [],
   "source": [
    "#Create a function to return RMSE for each inputed model after performing K-Fold CV\n",
    "def kf_rmse(model):\n",
    "    kf = KFold(n_splits = 5, shuffle=True, random_state=4).get_n_splits(X_train)\n",
    "    rmse = np.sqrt(-cross_val_score(model, X_train, y_train, scoring='neg_mean_squared_error', cv=kf))\n",
    "    return(rmse)"
   ]
  },
  {
   "cell_type": "markdown",
   "metadata": {},
   "source": [
    "## Ridge Regression"
   ]
  },
  {
   "cell_type": "code",
   "execution_count": 132,
   "metadata": {},
   "outputs": [
    {
     "data": {
      "text/plain": [
       "Ridge(alpha=1.0, copy_X=True, fit_intercept=True, max_iter=None, normalize=True,\n",
       "      random_state=4, solver='auto', tol=0.001)"
      ]
     },
     "execution_count": 132,
     "metadata": {},
     "output_type": "execute_result"
    }
   ],
   "source": [
    "#Ridge model object and parameters\n",
    "ridge = linear_model.Ridge(normalize=True)\n",
    "ridge = ridge.set_params(random_state=4)\n",
    "\n",
    "#Train the ridge model\n",
    "ridge.fit(X_train, y_train)"
   ]
  },
  {
   "cell_type": "code",
   "execution_count": 133,
   "metadata": {},
   "outputs": [],
   "source": [
    "#First predictions using X_train set\n",
    "ridge_pred = ridge.predict(X_train)"
   ]
  },
  {
   "cell_type": "code",
   "execution_count": 135,
   "metadata": {},
   "outputs": [
    {
     "name": "stdout",
     "output_type": "stream",
     "text": [
      "MSE : 0.017578672647815034\n",
      "RMSE : 0.13258458676563817\n"
     ]
    }
   ],
   "source": [
    "#Calculate the MSE and RMSE using y_train\n",
    "error = abs(np.expm1(ridge_pred) - np.expm1(y_train))\n",
    "print('MSE :', mean_squared_error(y_train, ridge_pred)) \n",
    "print('RMSE :', np.sqrt(mean_squared_error(y_train, ridge_pred)))"
   ]
  },
  {
   "cell_type": "code",
   "execution_count": 136,
   "metadata": {},
   "outputs": [
    {
     "name": "stdout",
     "output_type": "stream",
     "text": [
      "CPU times: user 18.8 s, sys: 765 ms, total: 19.6 s\n",
      "Wall time: 1min 52s\n"
     ]
    },
    {
     "data": {
      "text/plain": [
       "GridSearchCV(cv=KFold(n_splits=5, random_state=4, shuffle=True),\n",
       "             error_score='raise-deprecating',\n",
       "             estimator=Ridge(alpha=1.0, copy_X=True, fit_intercept=True,\n",
       "                             max_iter=None, normalize=True, random_state=4,\n",
       "                             solver='auto', tol=0.001),\n",
       "             iid='warn', n_jobs=-1,\n",
       "             param_grid={'alpha': array([5.00000000e+19, 4.73092410e+19, 4.47632856e+19, 4.23543413e+19,\n",
       "       4.00750348e+19, 3.79183...\n",
       "       1.14638466e-04, 1.08469176e-04, 1.02631888e-04, 9.71087341e-05,\n",
       "       9.18828100e-05, 8.69381200e-05, 8.22595294e-05, 7.78327180e-05,\n",
       "       7.36441362e-05, 6.96809637e-05, 6.59310701e-05, 6.23829776e-05,\n",
       "       5.90258264e-05, 5.58493409e-05, 5.28437986e-05, 5.00000000e-05]),\n",
       "                         'max_iter': [5, 10, 20]},\n",
       "             pre_dispatch='2*n_jobs', refit=True, return_train_score=True,\n",
       "             scoring='neg_mean_squared_error', verbose=0)"
      ]
     },
     "execution_count": 136,
     "metadata": {},
     "output_type": "execute_result"
    }
   ],
   "source": [
    "#Tune the hyperparameters for ridge\n",
    "alphas = 100**np.linspace(10,-2,1000)*0.5\n",
    "param_grid_ridge = {\"max_iter\": [5, 10, 20], \"alpha\": alphas}\n",
    "grid_search_ridge = ms.GridSearchCV(ridge, param_grid_ridge, scoring= 'neg_mean_squared_error', \n",
    "                                    cv= kf, n_jobs=-1, return_train_score = True)\n",
    "grid_search_ridge.fit(X_train, y_train)\n",
    "%time grid_search_ridge.fit(X_train, y_train)"
   ]
  },
  {
   "cell_type": "code",
   "execution_count": 137,
   "metadata": {},
   "outputs": [
    {
     "data": {
      "text/plain": [
       "{'alpha': 0.46018659983090965, 'max_iter': 5}"
      ]
     },
     "execution_count": 137,
     "metadata": {},
     "output_type": "execute_result"
    }
   ],
   "source": [
    "#Get the best parameters from the tuning\n",
    "grid_search_ridge.best_params_"
   ]
  },
  {
   "cell_type": "code",
   "execution_count": 139,
   "metadata": {},
   "outputs": [],
   "source": [
    "#Prediction using the tuned parameters\n",
    "grid_ridge = grid_search_ridge.best_estimator_"
   ]
  },
  {
   "cell_type": "code",
   "execution_count": 140,
   "metadata": {},
   "outputs": [
    {
     "name": "stdout",
     "output_type": "stream",
     "text": [
      "Mean Squared Error (MSE): 0.014962938795930804\n",
      "Root Mean Square Error (RMSE): 0.12232309183441532\n"
     ]
    }
   ],
   "source": [
    "#Prediction using tuned hyperparameters\n",
    "grid_ridge_pred = grid_ridge.predict(X_train)\n",
    "\n",
    "# Calculate the absolute errors\n",
    "error = abs(np.expm1(grid_ridge_pred) - np.expm1(y_train))\n",
    "\n",
    "#Calculate the MSE and RMSE using y_train \n",
    "print('Mean Squared Error (MSE):', mean_squared_error(y_train, grid_ridge_pred))\n",
    "print('Root Mean Square Error (RMSE):', np.sqrt(mean_squared_error(y_train, grid_ridge_pred)))"
   ]
  },
  {
   "cell_type": "code",
   "execution_count": 142,
   "metadata": {},
   "outputs": [
    {
     "data": {
      "image/png": "[encoded data removed]",
      "text/plain": [
       "<Figure size 864x576 with 1 Axes>"
      ]
     },
     "metadata": {
      "needs_background": "light"
     },
     "output_type": "display_data"
    }
   ],
   "source": [
    "#Plot of the training vs. validation data\n",
    "#y_train_lasso = lasso.predict(X_train)\n",
    "y_val_ridge = grid_ridge.predict(X_train)\n",
    "\n",
    "plt.figure(figsize=(12,8))\n",
    "plt.scatter(np.expm1(y_val_ridge), np.expm1(y_train), marker=\"o\", s=15, label=\"Validation\")\n",
    "plt.title(\"Validation Set Prediction for Ridge\", fontsize=20)\n",
    "plt.xlabel(\"Predicted Prices\", fontsize = 16)\n",
    "plt.ylabel(\"Actual Prices\", fontsize = 16)\n",
    "plt.xlim(0, 800000)\n",
    "plt.ylim(0, 800000)\n",
    "plt.legend(loc = \"upper left\")\n",
    "plt.plot([0, 800000], [0, 800000])\n",
    "plt.show()"
   ]
  },
  {
   "cell_type": "code",
   "execution_count": 143,
   "metadata": {},
   "outputs": [
    {
     "name": "stdout",
     "output_type": "stream",
     "text": [
      "(133, 2)\n"
     ]
    },
    {
     "data": {
      "text/html": [
       "<div>\n",
       "<style scoped>\n",
       "    .dataframe tbody tr th:only-of-type {\n",
       "        vertical-align: middle;\n",
       "    }\n",
       "\n",
       "    .dataframe tbody tr th {\n",
       "        vertical-align: top;\n",
       "    }\n",
       "\n",
       "    .dataframe thead th {\n",
       "        text-align: right;\n",
       "    }\n",
       "</style>\n",
       "<table border=\"1\" class=\"dataframe\">\n",
       "  <thead>\n",
       "    <tr style=\"text-align: right;\">\n",
       "      <th></th>\n",
       "      <th>feature</th>\n",
       "      <th>coeff</th>\n",
       "    </tr>\n",
       "  </thead>\n",
       "  <tbody>\n",
       "    <tr>\n",
       "      <td>121</td>\n",
       "      <td>Condition2_posa</td>\n",
       "      <td>2.048720e-01</td>\n",
       "    </tr>\n",
       "    <tr>\n",
       "      <td>148</td>\n",
       "      <td>RoofMatl_wdshngl</td>\n",
       "      <td>1.870399e-01</td>\n",
       "    </tr>\n",
       "    <tr>\n",
       "      <td>143</td>\n",
       "      <td>RoofMatl_membran</td>\n",
       "      <td>1.562796e-01</td>\n",
       "    </tr>\n",
       "    <tr>\n",
       "      <td>107</td>\n",
       "      <td>Neighborhood_stonebr</td>\n",
       "      <td>1.210604e-01</td>\n",
       "    </tr>\n",
       "    <tr>\n",
       "      <td>216</td>\n",
       "      <td>SaleType_cwd</td>\n",
       "      <td>1.044044e-01</td>\n",
       "    </tr>\n",
       "    <tr>\n",
       "      <td>...</td>\n",
       "      <td>...</td>\n",
       "      <td>...</td>\n",
       "    </tr>\n",
       "    <tr>\n",
       "      <td>23</td>\n",
       "      <td>LowQualFinSF</td>\n",
       "      <td>1.763405e-05</td>\n",
       "    </tr>\n",
       "    <tr>\n",
       "      <td>1</td>\n",
       "      <td>LotFrontage</td>\n",
       "      <td>1.392214e-05</td>\n",
       "    </tr>\n",
       "    <tr>\n",
       "      <td>18</td>\n",
       "      <td>BsmtUnfSF</td>\n",
       "      <td>4.821200e-06</td>\n",
       "    </tr>\n",
       "    <tr>\n",
       "      <td>2</td>\n",
       "      <td>LotArea</td>\n",
       "      <td>1.159562e-06</td>\n",
       "    </tr>\n",
       "    <tr>\n",
       "      <td>49</td>\n",
       "      <td>MiscVal</td>\n",
       "      <td>9.160258e-07</td>\n",
       "    </tr>\n",
       "  </tbody>\n",
       "</table>\n",
       "<p>133 rows × 2 columns</p>\n",
       "</div>"
      ],
      "text/plain": [
       "                  feature         coeff\n",
       "121       Condition2_posa  2.048720e-01\n",
       "148      RoofMatl_wdshngl  1.870399e-01\n",
       "143      RoofMatl_membran  1.562796e-01\n",
       "107  Neighborhood_stonebr  1.210604e-01\n",
       "216          SaleType_cwd  1.044044e-01\n",
       "..                    ...           ...\n",
       "23           LowQualFinSF  1.763405e-05\n",
       "1             LotFrontage  1.392214e-05\n",
       "18              BsmtUnfSF  4.821200e-06\n",
       "2                 LotArea  1.159562e-06\n",
       "49                MiscVal  9.160258e-07\n",
       "\n",
       "[133 rows x 2 columns]"
      ]
     },
     "execution_count": 143,
     "metadata": {},
     "output_type": "execute_result"
    }
   ],
   "source": [
    "#Check which features are most influential for Ridge prediction \n",
    "coeff = pd.DataFrame({\"feature\":X_train.columns,\"coeff\":grid_ridge.coef_})\n",
    "coeff = coeff.sort_values(by = 'coeff', ascending = False)\n",
    "\n",
    "print(coeff[coeff.coeff>0].shape)\n",
    "coeff[coeff.coeff>0]"
   ]
  },
  {
   "cell_type": "markdown",
   "metadata": {},
   "source": [
    "## Lasso Regression"
   ]
  },
  {
   "cell_type": "code",
   "execution_count": 123,
   "metadata": {},
   "outputs": [
    {
     "data": {
      "text/plain": [
       "Lasso(alpha=1.0, copy_X=True, fit_intercept=True, max_iter=1000, normalize=True,\n",
       "      positive=False, precompute=False, random_state=4, selection='cyclic',\n",
       "      tol=0.0001, warm_start=False)"
      ]
     },
     "execution_count": 123,
     "metadata": {},
     "output_type": "execute_result"
    }
   ],
   "source": [
    "#Lasso model object and parameters\n",
    "lasso = linear_model.Lasso(normalize=True)\n",
    "lasso = lasso.set_params(random_state=4)\n",
    "\n",
    "#Train the lasso model\n",
    "lasso.fit(X_train, y_train)"
   ]
  },
  {
   "cell_type": "code",
   "execution_count": 124,
   "metadata": {},
   "outputs": [],
   "source": [
    "#First predictions using X_train set\n",
    "lasso_pred = lasso.predict(X_train)    "
   ]
  },
  {
   "cell_type": "code",
   "execution_count": 125,
   "metadata": {},
   "outputs": [
    {
     "name": "stdout",
     "output_type": "stream",
     "text": [
      "MSE : 0.16341843071646808\n",
      "RMSE : 0.40425045543136756\n"
     ]
    }
   ],
   "source": [
    "#Calculate the MSE and RMSE using y_train \n",
    "error = abs(np.expm1(lasso_pred) - np.expm1(y_train))\n",
    "print('MSE :', mean_squared_error(y_train, lasso_pred)) \n",
    "print('RMSE :', np.sqrt(mean_squared_error(y_train, lasso_pred)))"
   ]
  },
  {
   "cell_type": "code",
   "execution_count": 126,
   "metadata": {},
   "outputs": [
    {
     "name": "stdout",
     "output_type": "stream",
     "text": [
      "CPU times: user 16.7 s, sys: 554 ms, total: 17.3 s\n",
      "Wall time: 1min 10s\n"
     ]
    },
    {
     "data": {
      "text/plain": [
       "GridSearchCV(cv=KFold(n_splits=5, random_state=4, shuffle=True),\n",
       "             error_score='raise-deprecating',\n",
       "             estimator=Lasso(alpha=1.0, copy_X=True, fit_intercept=True,\n",
       "                             max_iter=1000, normalize=True, positive=False,\n",
       "                             precompute=False, random_state=4,\n",
       "                             selection='cyclic', tol=0.0001, warm_start=False),\n",
       "             iid='warn', n_jobs=-1,\n",
       "             param_grid={'alpha': array([5.00000000e+19, 4.73092410e+...\n",
       "       1.14638466e-04, 1.08469176e-04, 1.02631888e-04, 9.71087341e-05,\n",
       "       9.18828100e-05, 8.69381200e-05, 8.22595294e-05, 7.78327180e-05,\n",
       "       7.36441362e-05, 6.96809637e-05, 6.59310701e-05, 6.23829776e-05,\n",
       "       5.90258264e-05, 5.58493409e-05, 5.28437986e-05, 5.00000000e-05]),\n",
       "                         'max_iter': [5, 10, 20]},\n",
       "             pre_dispatch='2*n_jobs', refit=True, return_train_score=True,\n",
       "             scoring='neg_mean_squared_error', verbose=0)"
      ]
     },
     "execution_count": 126,
     "metadata": {},
     "output_type": "execute_result"
    }
   ],
   "source": [
    "#Tune the hyperparameters for lasso \n",
    "alphas = 100**np.linspace(10,-2,1000)*0.5\n",
    "param_grid_lasso = {\"max_iter\": [5, 10, 20], \"alpha\": alphas}\n",
    "grid_search_lasso = ms.GridSearchCV(lasso, param_grid_lasso, scoring= 'neg_mean_squared_error', \n",
    "                                    cv= kf, n_jobs=-1, return_train_score = True)\n",
    "grid_search_lasso.fit(X_train, y_train)\n",
    "%time grid_search_lasso.fit(X_train, y_train)"
   ]
  },
  {
   "cell_type": "code",
   "execution_count": 127,
   "metadata": {},
   "outputs": [
    {
     "data": {
      "text/plain": [
       "{'alpha': 0.00019932905367902194, 'max_iter': 20}"
      ]
     },
     "execution_count": 127,
     "metadata": {},
     "output_type": "execute_result"
    }
   ],
   "source": [
    "#Get the best parameters from the tuning\n",
    "grid_search_lasso.best_params_"
   ]
  },
  {
   "cell_type": "code",
   "execution_count": 128,
   "metadata": {},
   "outputs": [],
   "source": [
    "#Prediction using the tuned parameters\n",
    "grid_lasso = grid_search_lasso.best_estimator_"
   ]
  },
  {
   "cell_type": "code",
   "execution_count": 129,
   "metadata": {},
   "outputs": [
    {
     "name": "stdout",
     "output_type": "stream",
     "text": [
      "Mean Squared Error (MSE): 0.016105911951563186\n",
      "Root Mean Square Error (RMSE): 0.1269090696190118\n"
     ]
    }
   ],
   "source": [
    "#Prediction using tuned hyperparameters\n",
    "grid_lasso_pred = grid_lasso.predict(X_train)\n",
    "\n",
    "# Calculate the absolute errors\n",
    "error = abs(np.expm1(grid_lasso_pred) - np.expm1(y_train))\n",
    "\n",
    "#Calculate the MSE and RMSE using y_train \n",
    "print('Mean Squared Error (MSE):', mean_squared_error(y_train, grid_lasso_pred))\n",
    "print('Root Mean Square Error (RMSE):', np.sqrt(mean_squared_error(y_train, grid_lasso_pred)))"
   ]
  },
  {
   "cell_type": "code",
   "execution_count": 130,
   "metadata": {},
   "outputs": [
    {
     "data": {
      "image/png": "[encoded data removed]",
      "text/plain": [
       "<Figure size 864x576 with 1 Axes>"
      ]
     },
     "metadata": {
      "needs_background": "light"
     },
     "output_type": "display_data"
    }
   ],
   "source": [
    "#Plot of the training vs. validation data\n",
    "#y_train_lasso = lasso.predict(X_train)\n",
    "y_val_lasso = grid_lasso.predict(X_train)\n",
    "\n",
    "plt.figure(figsize=(12,8))\n",
    "#plt.scatter(np.expm1(y_train_lasso), np.expm1(y_train), marker=\"o\", s=15, label = \"Training\")\n",
    "plt.scatter(np.expm1(y_val_lasso), np.expm1(y_train), marker=\"o\", s=15, label=\"Validation\")\n",
    "plt.title(\"Training vs. Validation Sets for Lasso\", fontsize=20)\n",
    "plt.xlabel(\"Predicted Prices\", fontsize = 16)\n",
    "plt.ylabel(\"Actual Prices\", fontsize = 16)\n",
    "plt.xlim(0, 800000)\n",
    "plt.ylim(0, 800000)\n",
    "plt.legend(loc = \"upper left\")\n",
    "plt.plot([0, 800000], [0, 800000])\n",
    "plt.show()"
   ]
  },
  {
   "cell_type": "code",
   "execution_count": 131,
   "metadata": {},
   "outputs": [
    {
     "name": "stdout",
     "output_type": "stream",
     "text": [
      "(52, 2)\n"
     ]
    },
    {
     "data": {
      "text/html": [
       "<div>\n",
       "<style scoped>\n",
       "    .dataframe tbody tr th:only-of-type {\n",
       "        vertical-align: middle;\n",
       "    }\n",
       "\n",
       "    .dataframe tbody tr th {\n",
       "        vertical-align: top;\n",
       "    }\n",
       "\n",
       "    .dataframe thead th {\n",
       "        text-align: right;\n",
       "    }\n",
       "</style>\n",
       "<table border=\"1\" class=\"dataframe\">\n",
       "  <thead>\n",
       "    <tr style=\"text-align: right;\">\n",
       "      <th></th>\n",
       "      <th>feature</th>\n",
       "      <th>coeff</th>\n",
       "    </tr>\n",
       "  </thead>\n",
       "  <tbody>\n",
       "    <tr>\n",
       "      <td>107</td>\n",
       "      <td>Neighborhood_stonebr</td>\n",
       "      <td>9.302614e-02</td>\n",
       "    </tr>\n",
       "    <tr>\n",
       "      <td>101</td>\n",
       "      <td>Neighborhood_nridght</td>\n",
       "      <td>8.316397e-02</td>\n",
       "    </tr>\n",
       "    <tr>\n",
       "      <td>191</td>\n",
       "      <td>CentralAir_y</td>\n",
       "      <td>7.583228e-02</td>\n",
       "    </tr>\n",
       "    <tr>\n",
       "      <td>106</td>\n",
       "      <td>Neighborhood_somerst</td>\n",
       "      <td>6.944037e-02</td>\n",
       "    </tr>\n",
       "    <tr>\n",
       "      <td>92</td>\n",
       "      <td>Neighborhood_crawfor</td>\n",
       "      <td>6.511597e-02</td>\n",
       "    </tr>\n",
       "    <tr>\n",
       "      <td>99</td>\n",
       "      <td>Neighborhood_noridge</td>\n",
       "      <td>6.155265e-02</td>\n",
       "    </tr>\n",
       "    <tr>\n",
       "      <td>38</td>\n",
       "      <td>GarageCars</td>\n",
       "      <td>5.932933e-02</td>\n",
       "    </tr>\n",
       "    <tr>\n",
       "      <td>217</td>\n",
       "      <td>SaleType_new</td>\n",
       "      <td>5.529335e-02</td>\n",
       "    </tr>\n",
       "    <tr>\n",
       "      <td>4</td>\n",
       "      <td>OverallQual</td>\n",
       "      <td>5.501664e-02</td>\n",
       "    </tr>\n",
       "    <tr>\n",
       "      <td>148</td>\n",
       "      <td>RoofMatl_wdshngl</td>\n",
       "      <td>4.825995e-02</td>\n",
       "    </tr>\n",
       "    <tr>\n",
       "      <td>71</td>\n",
       "      <td>MSZoning_rl</td>\n",
       "      <td>4.378934e-02</td>\n",
       "    </tr>\n",
       "    <tr>\n",
       "      <td>27</td>\n",
       "      <td>FullBath</td>\n",
       "      <td>4.234454e-02</td>\n",
       "    </tr>\n",
       "    <tr>\n",
       "      <td>31</td>\n",
       "      <td>KitchenQual</td>\n",
       "      <td>3.922786e-02</td>\n",
       "    </tr>\n",
       "    <tr>\n",
       "      <td>112</td>\n",
       "      <td>Condition1_norm</td>\n",
       "      <td>3.382026e-02</td>\n",
       "    </tr>\n",
       "    <tr>\n",
       "      <td>151</td>\n",
       "      <td>Exterior1st_brkface</td>\n",
       "      <td>3.206880e-02</td>\n",
       "    </tr>\n",
       "    <tr>\n",
       "      <td>5</td>\n",
       "      <td>OverallCond</td>\n",
       "      <td>3.133736e-02</td>\n",
       "    </tr>\n",
       "    <tr>\n",
       "      <td>223</td>\n",
       "      <td>SaleCondition_normal</td>\n",
       "      <td>3.099157e-02</td>\n",
       "    </tr>\n",
       "    <tr>\n",
       "      <td>11</td>\n",
       "      <td>BsmtQual</td>\n",
       "      <td>3.026865e-02</td>\n",
       "    </tr>\n",
       "    <tr>\n",
       "      <td>90</td>\n",
       "      <td>Neighborhood_clearcr</td>\n",
       "      <td>3.002823e-02</td>\n",
       "    </tr>\n",
       "    <tr>\n",
       "      <td>25</td>\n",
       "      <td>BsmtFullBath</td>\n",
       "      <td>2.894324e-02</td>\n",
       "    </tr>\n",
       "    <tr>\n",
       "      <td>28</td>\n",
       "      <td>HalfBath</td>\n",
       "      <td>2.011990e-02</td>\n",
       "    </tr>\n",
       "    <tr>\n",
       "      <td>182</td>\n",
       "      <td>Foundation_pconc</td>\n",
       "      <td>1.948172e-02</td>\n",
       "    </tr>\n",
       "    <tr>\n",
       "      <td>33</td>\n",
       "      <td>Functional</td>\n",
       "      <td>1.798737e-02</td>\n",
       "    </tr>\n",
       "    <tr>\n",
       "      <td>83</td>\n",
       "      <td>LotConfig_culdsac</td>\n",
       "      <td>1.726669e-02</td>\n",
       "    </tr>\n",
       "    <tr>\n",
       "      <td>37</td>\n",
       "      <td>GarageFinish</td>\n",
       "      <td>1.324180e-02</td>\n",
       "    </tr>\n",
       "    <tr>\n",
       "      <td>13</td>\n",
       "      <td>BsmtExposure</td>\n",
       "      <td>1.167094e-02</td>\n",
       "    </tr>\n",
       "    <tr>\n",
       "      <td>35</td>\n",
       "      <td>FireplaceQu</td>\n",
       "      <td>1.018527e-02</td>\n",
       "    </tr>\n",
       "    <tr>\n",
       "      <td>14</td>\n",
       "      <td>BsmtFinType1</td>\n",
       "      <td>1.011966e-02</td>\n",
       "    </tr>\n",
       "    <tr>\n",
       "      <td>9</td>\n",
       "      <td>ExterQual</td>\n",
       "      <td>8.266869e-03</td>\n",
       "    </tr>\n",
       "    <tr>\n",
       "      <td>203</td>\n",
       "      <td>PavedDrive_y</td>\n",
       "      <td>8.120332e-03</td>\n",
       "    </tr>\n",
       "    <tr>\n",
       "      <td>20</td>\n",
       "      <td>HeatingQC</td>\n",
       "      <td>7.899705e-03</td>\n",
       "    </tr>\n",
       "    <tr>\n",
       "      <td>196</td>\n",
       "      <td>GarageType_attchd</td>\n",
       "      <td>6.908242e-03</td>\n",
       "    </tr>\n",
       "    <tr>\n",
       "      <td>69</td>\n",
       "      <td>MSZoning_fv</td>\n",
       "      <td>6.330181e-03</td>\n",
       "    </tr>\n",
       "    <tr>\n",
       "      <td>34</td>\n",
       "      <td>Fireplaces</td>\n",
       "      <td>5.195630e-03</td>\n",
       "    </tr>\n",
       "    <tr>\n",
       "      <td>32</td>\n",
       "      <td>TotRmsAbvGrd</td>\n",
       "      <td>4.735934e-03</td>\n",
       "    </tr>\n",
       "    <tr>\n",
       "      <td>187</td>\n",
       "      <td>Heating_gasw</td>\n",
       "      <td>4.194664e-03</td>\n",
       "    </tr>\n",
       "    <tr>\n",
       "      <td>52</td>\n",
       "      <td>decade_YearBuilt</td>\n",
       "      <td>2.549421e-03</td>\n",
       "    </tr>\n",
       "    <tr>\n",
       "      <td>53</td>\n",
       "      <td>decade_YearRemodAdd</td>\n",
       "      <td>1.028748e-03</td>\n",
       "    </tr>\n",
       "    <tr>\n",
       "      <td>139</td>\n",
       "      <td>RoofStyle_hip</td>\n",
       "      <td>3.922968e-04</td>\n",
       "    </tr>\n",
       "    <tr>\n",
       "      <td>76</td>\n",
       "      <td>LotShape_ir2</td>\n",
       "      <td>3.489522e-04</td>\n",
       "    </tr>\n",
       "    <tr>\n",
       "      <td>7</td>\n",
       "      <td>YearRemodAdd</td>\n",
       "      <td>3.092525e-04</td>\n",
       "    </tr>\n",
       "    <tr>\n",
       "      <td>6</td>\n",
       "      <td>YearBuilt</td>\n",
       "      <td>3.027946e-04</td>\n",
       "    </tr>\n",
       "    <tr>\n",
       "      <td>156</td>\n",
       "      <td>Exterior1st_metalsd</td>\n",
       "      <td>2.476428e-04</td>\n",
       "    </tr>\n",
       "    <tr>\n",
       "      <td>46</td>\n",
       "      <td>ScreenPorch</td>\n",
       "      <td>1.917322e-04</td>\n",
       "    </tr>\n",
       "    <tr>\n",
       "      <td>24</td>\n",
       "      <td>GrLivArea</td>\n",
       "      <td>1.512384e-04</td>\n",
       "    </tr>\n",
       "    <tr>\n",
       "      <td>21</td>\n",
       "      <td>1stFlrSF</td>\n",
       "      <td>1.003478e-04</td>\n",
       "    </tr>\n",
       "    <tr>\n",
       "      <td>29</td>\n",
       "      <td>BedroomAbvGr</td>\n",
       "      <td>5.915131e-05</td>\n",
       "    </tr>\n",
       "    <tr>\n",
       "      <td>42</td>\n",
       "      <td>WoodDeckSF</td>\n",
       "      <td>5.518451e-05</td>\n",
       "    </tr>\n",
       "    <tr>\n",
       "      <td>39</td>\n",
       "      <td>GarageArea</td>\n",
       "      <td>2.073369e-05</td>\n",
       "    </tr>\n",
       "    <tr>\n",
       "      <td>22</td>\n",
       "      <td>2ndFlrSF</td>\n",
       "      <td>1.273860e-05</td>\n",
       "    </tr>\n",
       "    <tr>\n",
       "      <td>2</td>\n",
       "      <td>LotArea</td>\n",
       "      <td>1.225554e-06</td>\n",
       "    </tr>\n",
       "    <tr>\n",
       "      <td>8</td>\n",
       "      <td>MasVnrArea</td>\n",
       "      <td>7.463538e-08</td>\n",
       "    </tr>\n",
       "  </tbody>\n",
       "</table>\n",
       "</div>"
      ],
      "text/plain": [
       "                  feature         coeff\n",
       "107  Neighborhood_stonebr  9.302614e-02\n",
       "101  Neighborhood_nridght  8.316397e-02\n",
       "191          CentralAir_y  7.583228e-02\n",
       "106  Neighborhood_somerst  6.944037e-02\n",
       "92   Neighborhood_crawfor  6.511597e-02\n",
       "99   Neighborhood_noridge  6.155265e-02\n",
       "38             GarageCars  5.932933e-02\n",
       "217          SaleType_new  5.529335e-02\n",
       "4             OverallQual  5.501664e-02\n",
       "148      RoofMatl_wdshngl  4.825995e-02\n",
       "71            MSZoning_rl  4.378934e-02\n",
       "27               FullBath  4.234454e-02\n",
       "31            KitchenQual  3.922786e-02\n",
       "112       Condition1_norm  3.382026e-02\n",
       "151   Exterior1st_brkface  3.206880e-02\n",
       "5             OverallCond  3.133736e-02\n",
       "223  SaleCondition_normal  3.099157e-02\n",
       "11               BsmtQual  3.026865e-02\n",
       "90   Neighborhood_clearcr  3.002823e-02\n",
       "25           BsmtFullBath  2.894324e-02\n",
       "28               HalfBath  2.011990e-02\n",
       "182      Foundation_pconc  1.948172e-02\n",
       "33             Functional  1.798737e-02\n",
       "83      LotConfig_culdsac  1.726669e-02\n",
       "37           GarageFinish  1.324180e-02\n",
       "13           BsmtExposure  1.167094e-02\n",
       "35            FireplaceQu  1.018527e-02\n",
       "14           BsmtFinType1  1.011966e-02\n",
       "9               ExterQual  8.266869e-03\n",
       "203          PavedDrive_y  8.120332e-03\n",
       "20              HeatingQC  7.899705e-03\n",
       "196     GarageType_attchd  6.908242e-03\n",
       "69            MSZoning_fv  6.330181e-03\n",
       "34             Fireplaces  5.195630e-03\n",
       "32           TotRmsAbvGrd  4.735934e-03\n",
       "187          Heating_gasw  4.194664e-03\n",
       "52       decade_YearBuilt  2.549421e-03\n",
       "53    decade_YearRemodAdd  1.028748e-03\n",
       "139         RoofStyle_hip  3.922968e-04\n",
       "76           LotShape_ir2  3.489522e-04\n",
       "7            YearRemodAdd  3.092525e-04\n",
       "6               YearBuilt  3.027946e-04\n",
       "156   Exterior1st_metalsd  2.476428e-04\n",
       "46            ScreenPorch  1.917322e-04\n",
       "24              GrLivArea  1.512384e-04\n",
       "21               1stFlrSF  1.003478e-04\n",
       "29           BedroomAbvGr  5.915131e-05\n",
       "42             WoodDeckSF  5.518451e-05\n",
       "39             GarageArea  2.073369e-05\n",
       "22               2ndFlrSF  1.273860e-05\n",
       "2                 LotArea  1.225554e-06\n",
       "8              MasVnrArea  7.463538e-08"
      ]
     },
     "execution_count": 131,
     "metadata": {},
     "output_type": "execute_result"
    }
   ],
   "source": [
    "#Check which features are most influential for Lasso prediction \n",
    "coeff = pd.DataFrame({\"feature\":X_train.columns,\"coeff\":grid_lasso.coef_})\n",
    "coeff = coeff.sort_values(by = 'coeff', ascending = False)\n",
    "\n",
    "print(coeff[coeff.coeff>0].shape)\n",
    "coeff[coeff.coeff>0]"
   ]
  },
  {
   "cell_type": "markdown",
   "metadata": {},
   "source": [
    "## Random Forest"
   ]
  },
  {
   "cell_type": "code",
   "execution_count": null,
   "metadata": {},
   "outputs": [],
   "source": [
    "#Random forest object and parameters\n",
    "rforest = RandomForestRegressor()\n",
    "rforest.set_params(random_state=4)\n",
    "\n",
    "#Train the random forest model\n",
    "rforest.fit(X_train, y_train)\n",
    "\n",
    "#R^2 value of initial training set"
   ]
  },
  {
   "cell_type": "code",
   "execution_count": null,
   "metadata": {},
   "outputs": [],
   "source": [
    "#Tune the hyperparameters for random forest\n",
    "from sklearn.preprocessing import RobustScaler\n",
    "from sklearn.metrics import mean_squared_error, r2_score\n",
    "\n",
    "param_grid = {'max_depth': [20, 25, 30],\n",
    "             'max_features': ['auto', 'sqrt', 'log2'],\n",
    "             'min_samples_split': [2, 3, 4],\n",
    "             'min_samples_leaf': [1, 3, 5],\n",
    "             'n_estimators': [500, 750, 1000, 1250, 1500]}"
   ]
  },
  {
   "cell_type": "code",
   "execution_count": null,
   "metadata": {},
   "outputs": [],
   "source": [
    "#Use grid search on the random forest object \n",
    "grid_search_rforest = ms.GridSearchCV(rforest, param_grid, scoring = 'neg_mean_squared_error', cv=kf, \n",
    "                                      n_jobs=-1, return_train_score=True)"
   ]
  },
  {
   "cell_type": "markdown",
   "metadata": {},
   "source": [
    "## Gradient Boost"
   ]
  },
  {
   "cell_type": "code",
   "execution_count": null,
   "metadata": {},
   "outputs": [],
   "source": [
    "#Gradient boost object and parameters\n",
    "gb = GradientBoostingRegressor()\n",
    "gb.set_params(random_state=4)\n",
    "\n",
    "#Train the gradient boost model\n",
    "gb.fit(X_train, y_train)\n",
    "\n",
    "#R^2 value of initial training set\n",
    "print(\"R^2 : %.5f\" gb.score(X_train, y_train))"
   ]
  }
 ],
 "metadata": {
  "kernelspec": {
   "display_name": "Python 3",
   "language": "python",
   "name": "python3"
  },
  "language_info": {
   "codemirror_mode": {
    "name": "ipython",
    "version": 3
   },
   "file_extension": ".py",
   "mimetype": "text/x-python",
   "name": "python",
   "nbconvert_exporter": "python",
   "pygments_lexer": "ipython3",
   "version": "3.7.4"
  }
 },
 "nbformat": 4,
 "nbformat_minor": 2
}
